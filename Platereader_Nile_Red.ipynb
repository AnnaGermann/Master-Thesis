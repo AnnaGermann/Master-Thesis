{
 "cells": [
  {
   "cell_type": "code",
   "execution_count": 1,
   "metadata": {
    "collapsed": false
   },
   "outputs": [
    {
     "name": "stdout",
     "output_type": "stream",
     "text": [
      "Populating the interactive namespace from numpy and matplotlib\n"
     ]
    }
   ],
   "source": [
    "#import packages\n",
    "import matplotlib.pyplot as plt\n",
    "import numpy as np\n",
    "import pandas as pd\n",
    "import scipy.stats as stats\n",
    "import csv\n",
    "from statsmodels.stats.multicomp import pairwise_tukeyhsd\n",
    "from statsmodels.stats.multicomp import MultiComparison\n",
    "\n",
    "\n",
    "%pylab inline\n"
   ]
  },
  {
   "cell_type": "code",
   "execution_count": 2,
   "metadata": {
    "collapsed": false
   },
   "outputs": [],
   "source": [
    "filename='nile_red_1508.csv' #fluorescence\n",
    "filename1='od_nile_red_1508.csv' #od\n",
    "\n",
    "nile_red=pd.read_csv(filename, skiprows=13,usecols=range(1,13)) #read file1\n",
    "nile_red=np.array(nile_red) #to array\n",
    "\n",
    "od750=pd.read_csv(filename1,delimiter='\\t' ,skiprows=13,usecols=range(1,13)) #read file2\n",
    "od750=od750.fillna(value=dict(zip(['7','8','9','10','11','12'],od750.iloc[-1,:6]))) #fill na values\n",
    "od750=np.array(od750) #to array\n"
   ]
  },
  {
   "cell_type": "code",
   "execution_count": 3,
   "metadata": {
    "collapsed": false
   },
   "outputs": [],
   "source": [
    "blank=od750[-1].mean() #mean bg11"
   ]
  },
  {
   "cell_type": "code",
   "execution_count": 4,
   "metadata": {
    "collapsed": false
   },
   "outputs": [],
   "source": [
    "od750=od750-blank #blank ods\n",
    "od750[-1]=1"
   ]
  },
  {
   "cell_type": "code",
   "execution_count": 5,
   "metadata": {
    "collapsed": false,
    "scrolled": true
   },
   "outputs": [],
   "source": [
    "norm=nile_red/od750 #normalize fluorescence to OD750"
   ]
  },
  {
   "cell_type": "code",
   "execution_count": 6,
   "metadata": {
    "collapsed": false,
    "scrolled": false
   },
   "outputs": [],
   "source": [
    "mean=[]\n",
    "err=[]\n",
    "#mean and std of technical replicates\n",
    "for x in range(len(norm)):\n",
    "    i=0\n",
    "    while i< len(norm[0]):\n",
    "        mean.append(norm[x,i:i+4].sum()/len(norm[x,i:i+4]))\n",
    "        err.append(norm[x,i:i+4].std())\n",
    "        i+=4"
   ]
  },
  {
   "cell_type": "code",
   "execution_count": 7,
   "metadata": {
    "collapsed": false,
    "scrolled": true
   },
   "outputs": [],
   "source": [
    "new_norm=np.copy(norm) #copy array\n",
    "\n",
    "new_norm[-1]=new_norm[-1][:8].mean() \n",
    "\n",
    "x_value=[]\n",
    "means=[]\n",
    "\n",
    "#mean of biological replicates\n",
    "for x in range(len(new_norm)):\n",
    "    x_value.append([x+1]*len(new_norm[x]))\n",
    "    means.append(new_norm[x].sum()/len(new_norm[x]))\n",
    "    \n"
   ]
  },
  {
   "cell_type": "code",
   "execution_count": 8,
   "metadata": {
    "collapsed": true
   },
   "outputs": [],
   "source": [
    "#labels\n",
    "labeli=['$\\Delta shc$_EVC',\n",
    " '$\\Delta shc$_SQS1',\n",
    " 'GT-V_EVC',\n",
    " 'GT-V_SQS',\n",
    " 'GT-U_EVC',\n",
    " 'GT-U_SQS',\n",
    " '     BG11']"
   ]
  },
  {
   "cell_type": "code",
   "execution_count": 9,
   "metadata": {
    "collapsed": false
   },
   "outputs": [
    {
     "data": {
      "image/png": "[encoded data removed]",
      "text/plain": [
       "<matplotlib.figure.Figure at 0x7f08541754d0>"
      ]
     },
     "metadata": {},
     "output_type": "display_data"
    }
   ],
   "source": [
    "from matplotlib.ticker import MaxNLocator\n",
    "\n",
    "ax= plt.subplot(111)\n",
    "\n",
    "#plot data points\n",
    "ax.scatter(x_value[:-2],norm[:-2],marker='+',c='k')\n",
    "#barplot means\n",
    "ax.bar(np.array(range(1,len(means[:-2])+1))-0.3,means[:-2],color=['k','k','lightgray','lightgray','k','k'],width=0.6, alpha=0.5)\n",
    "#plot data points bg11\n",
    "ax.scatter(x_value[-2],norm[-1],marker='+',c='k')\n",
    "#pbarplot means bg11\n",
    "ax.bar(len(means)-1-0.3,means[-1],color='lightgray',width=0.6, alpha=0.5)\n",
    "\n",
    "#format plot\n",
    "plt.xticks(np.array(range(1,len(means)+1))-0.4, labeli,rotation=50,fontsize=14) #xticks\n",
    "plt.yticks([0,3*10**4,6*10**4,9*10**4,12*10**4],[0, '$3 \\cdot 10^{4}$' ,'$6 \\cdot 10^{4}$','$9 \\cdot 10^{4}$' \n",
    "                                                 ,'$12 \\cdot 10^{4}$'],fontsize=14)\n",
    "plt.xlabel('Strain',fontsize=14)\n",
    "plt.ylabel('Rel. fluor. (normalized) [A.U.]',fontsize=14)\n",
    "\n",
    "ax.spines['right'].set_visible(False)\n",
    "ax.spines['top'].set_visible(False)\n",
    "\n",
    "ax.yaxis.set_ticks_position('left')\n",
    "ax.xaxis.set_ticks_position('none')\n",
    "\n",
    "ax.yaxis.set_major_locator(MaxNLocator(4))\n",
    "\n",
    "plt.ylim(0)\n",
    "\n",
    "plt.tight_layout()\n",
    "\n",
    "#save plot\n",
    "#plt.savefig('Nile_red_1508_bg11.png',bbox_inches='tight',dpi=1000)\n"
   ]
  },
  {
   "cell_type": "markdown",
   "metadata": {},
   "source": [
    "# Statistics"
   ]
  },
  {
   "cell_type": "code",
   "execution_count": 10,
   "metadata": {
    "collapsed": false,
    "scrolled": false
   },
   "outputs": [
    {
     "name": "stdout",
     "output_type": "stream",
     "text": [
      "NormaltestResult(statistic=0.70619154239700466, pvalue=0.70250990993935047)\n",
      "NormaltestResult(statistic=2.3230707529373693, pvalue=0.31300523089135174)\n",
      "NormaltestResult(statistic=3.0441549401264769, pvalue=0.21825799119526729)\n",
      "NormaltestResult(statistic=0.72995517450916192, pvalue=0.69421220990514521)\n",
      "NormaltestResult(statistic=2.050283458181962, pvalue=0.35874561711248865)\n",
      "NormaltestResult(statistic=2.0364190475396455, pvalue=0.36124115518585354)\n",
      "NormaltestResult(statistic=2.1687934138340026, pvalue=0.33810570120904099)\n",
      "NormaltestResult(statistic=nan, pvalue=nan)\n"
     ]
    },
    {
     "name": "stderr",
     "output_type": "stream",
     "text": [
      "/usr/local/lib/python2.7/dist-packages/scipy/stats/stats.py:1327: UserWarning: kurtosistest only valid for n>=20 ... continuing anyway, n=12\n",
      "  \"anyway, n=%i\" % int(n))\n"
     ]
    }
   ],
   "source": [
    "for x in range(len(norm)):\n",
    "    print stats.normaltest(norm[x])\n",
    "    \n",
    "#Normality Test"
   ]
  },
  {
   "cell_type": "code",
   "execution_count": 11,
   "metadata": {
    "collapsed": false,
    "scrolled": true
   },
   "outputs": [
    {
     "name": "stdout",
     "output_type": "stream",
     "text": [
      "0 1\n",
      "BartlettResult(statistic=1.9521280276187554, pvalue=0.16235771993409032)\n",
      "2 3\n",
      "BartlettResult(statistic=10.199445331823856, pvalue=0.0014048290188396673)\n",
      "4 5\n",
      "BartlettResult(statistic=0.88402854475999038, pvalue=0.34710066245008797)\n"
     ]
    }
   ],
   "source": [
    "x=0\n",
    "\n",
    "while x < len(norm)-2:\n",
    "    print x,x+1\n",
    "    print stats.bartlett(norm[x],norm[x+1])\n",
    "    x+=2\n",
    "    \n",
    "#Bartlett's test on equal variances (no equal var = Welch's test)"
   ]
  },
  {
   "cell_type": "code",
   "execution_count": 12,
   "metadata": {
    "collapsed": false,
    "scrolled": true
   },
   "outputs": [
    {
     "name": "stdout",
     "output_type": "stream",
     "text": [
      "0 1\n",
      "Ttest_relResult(statistic=array(-3.580907936666899), pvalue=0.0043117906888698182)\n",
      "2 3\n",
      "Ttest_relResult(statistic=array(-4.441007208527634), pvalue=0.00099335813819396968)\n",
      "4 5\n",
      "Ttest_relResult(statistic=array(-0.9681109821864933), pvalue=0.35379319077608717)\n"
     ]
    }
   ],
   "source": [
    "x=0\n",
    "\n",
    "while x < len(norm)-2:\n",
    "    print x,x+1\n",
    "    print stats.ttest_rel(norm[x],norm[x+1])\n",
    "    x+=2\n",
    "    \n",
    "#Paired sample t-test "
   ]
  },
  {
   "cell_type": "code",
   "execution_count": 13,
   "metadata": {
    "collapsed": false
   },
   "outputs": [
    {
     "name": "stdout",
     "output_type": "stream",
     "text": [
      "0 1\n",
      "WilcoxonResult(statistic=5.0, pvalue=0.0076490820552939202)\n",
      "2 3\n",
      "WilcoxonResult(statistic=1.0, pvalue=0.0028734139278525227)\n",
      "4 5\n",
      "WilcoxonResult(statistic=27.0, pvalue=0.34652171170610724)\n"
     ]
    }
   ],
   "source": [
    "x=0\n",
    "\n",
    "while x < len(norm)-2:\n",
    "    print x,x+1\n",
    "    print stats.wilcoxon(norm[x],norm[x+1])\n",
    "    x+=2\n",
    "    \n",
    "#Wilcoxon signed-rank test"
   ]
  },
  {
   "cell_type": "code",
   "execution_count": 14,
   "metadata": {
    "collapsed": false
   },
   "outputs": [
    {
     "name": "stdout",
     "output_type": "stream",
     "text": [
      "0 2 4\n",
      "BartlettResult(statistic=2.2940691666830393, pvalue=0.31757712291057244)\n",
      "1 3 5\n",
      "BartlettResult(statistic=15.174693845925251, pvalue=0.00050682391471012578)\n"
     ]
    }
   ],
   "source": [
    "x=0\n",
    "\n",
    "while x < 2:\n",
    "    print x,x+2,x+4\n",
    "    print stats.bartlett(norm[x],norm[x+2],norm[x+4])\n",
    "    x+=1\n",
    "    \n",
    "#Bartlett's test on equal variances (no equal var = Welch's test)"
   ]
  },
  {
   "cell_type": "code",
   "execution_count": 15,
   "metadata": {
    "collapsed": false
   },
   "outputs": [
    {
     "name": "stdout",
     "output_type": "stream",
     "text": [
      "0 2 4\n",
      "F_onewayResult(statistic=20.383878885616582, pvalue=1.720605827627216e-06)\n",
      "1 3 5\n",
      "F_onewayResult(statistic=17.424948566385545, pvalue=6.8378302346752413e-06)\n"
     ]
    }
   ],
   "source": [
    "x=0\n",
    "\n",
    "while x < 2:\n",
    "    print x,x+2,x+4\n",
    "    print stats.f_oneway(norm[x],norm[x+2],norm[x+4])\n",
    "    x+=1\n",
    "\n",
    "#One way ANOVA"
   ]
  },
  {
   "cell_type": "code",
   "execution_count": 16,
   "metadata": {
    "collapsed": false
   },
   "outputs": [
    {
     "name": "stdout",
     "output_type": "stream",
     "text": [
      "0 2 4\n",
      "KruskalResult(statistic=18.60510510510511, pvalue=9.1191163907905479e-05)\n",
      "1 3 5\n",
      "KruskalResult(statistic=20.882882882882882, pvalue=2.9197092036467489e-05)\n"
     ]
    }
   ],
   "source": [
    "x=0\n",
    "\n",
    "while x < 2:\n",
    "    print x,x+2,x+4\n",
    "    print stats.kruskal(norm[x],norm[x+2],norm[x+4])\n",
    "    x+=1\n",
    "    \n",
    "#Kruskal Wallis test"
   ]
  },
  {
   "cell_type": "code",
   "execution_count": 17,
   "metadata": {
    "collapsed": false,
    "scrolled": true
   },
   "outputs": [
    {
     "name": "stdout",
     "output_type": "stream",
     "text": [
      "   Multiple Comparison of Means - Tukey HSD,FWER=0.05   \n",
      "========================================================\n",
      "group1 group2   meandiff     lower       upper    reject\n",
      "--------------------------------------------------------\n",
      "  0      1    -22860.8626 -32353.3727 -13368.3524  True \n",
      "  0      2    -19540.6394 -29033.1496 -10048.1292  True \n",
      "  1      2     3320.2232   -6172.287   12812.7334 False \n",
      "--------------------------------------------------------\n"
     ]
    }
   ],
   "source": [
    "#Tukey's HSD\n",
    "\n",
    "all = list(norm[0]) + list(norm[2]) + list(norm[4])\n",
    "\n",
    "shc = ['shc']*len(norm[0])\n",
    "v = ['v']*len(norm[2])\n",
    "u = ['u']*len(norm[4])\n",
    "\n",
    "treatments = shc + v + u\n",
    "\n",
    "data = {'Data': all,\n",
    "        'Group': treatments}\n",
    "data = pd.DataFrame(data, columns=['Data', 'Group'])\n",
    "\n",
    "data.head()\n",
    "\n",
    "from statsmodels.stats.multicomp import pairwise_tukeyhsd\n",
    "\n",
    "res2 = pairwise_tukeyhsd(data['Data'],data['Group'])\n",
    "print(res2)"
   ]
  },
  {
   "cell_type": "code",
   "execution_count": 18,
   "metadata": {
    "collapsed": false
   },
   "outputs": [
    {
     "name": "stdout",
     "output_type": "stream",
     "text": [
      "Ttest_indResult(statistic=array(0.9874618035011967), pvalue=0.33468891581303861)\n",
      "Ttest_indResult(statistic=array(7.122025039254209), pvalue=6.7024741215168318e-06)\n",
      "Ttest_indResult(statistic=array(4.549872637561864), pvalue=0.00060107589047079006)\n"
     ]
    }
   ],
   "source": [
    "print stats.ttest_ind(norm[1],norm[3],equal_var=False) \n",
    "print stats.ttest_ind(norm[1],norm[5],equal_var=False)\n",
    "print stats.ttest_ind(norm[3],norm[5],equal_var=False)\n",
    "\n",
    "#Welch's test"
   ]
  },
  {
   "cell_type": "code",
   "execution_count": 19,
   "metadata": {
    "collapsed": true
   },
   "outputs": [],
   "source": [
    "#write results to csv\n",
    "with open('nile_red.csv','wb') as f:\n",
    "    wr = csv.writer(f)\n",
    "    i=0\n",
    "    for x in norm[:-2]:\n",
    "        wr.writerow(x[i:i+4])\n",
    "        wr.writerow(x[i+4:i+8])\n",
    "        wr.writerow(x[i+8:i+12])"
   ]
  }
 ],
 "metadata": {
  "kernelspec": {
   "display_name": "Python 2",
   "language": "python",
   "name": "python2"
  },
  "language_info": {
   "codemirror_mode": {
    "name": "ipython",
    "version": 2
   },
   "file_extension": ".py",
   "mimetype": "text/x-python",
   "name": "python",
   "nbconvert_exporter": "python",
   "pygments_lexer": "ipython2",
   "version": "2.7.6"
  }
 },
 "nbformat": 4,
 "nbformat_minor": 2
}
