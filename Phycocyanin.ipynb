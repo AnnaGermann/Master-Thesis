{
 "cells": [
  {
   "cell_type": "code",
   "execution_count": 1,
   "metadata": {
    "collapsed": false
   },
   "outputs": [
    {
     "name": "stdout",
     "output_type": "stream",
     "text": [
      "Populating the interactive namespace from numpy and matplotlib\n"
     ]
    }
   ],
   "source": [
    "#import packages\n",
    "import matplotlib.pyplot as plt\n",
    "import numpy as np\n",
    "import pandas as pd\n",
    "import csv\n",
    "import scipy.stats as stats\n",
    "\n",
    "%pylab inline\n"
   ]
  },
  {
   "cell_type": "code",
   "execution_count": 2,
   "metadata": {
    "collapsed": false,
    "scrolled": true
   },
   "outputs": [],
   "source": [
    "filename='/home/darwin/Dokumente/UNI/Master/Master_Thesis/Triterpenoids/Phycocyanin/Phycocyanin_2008.csv'\n",
    "phyco=pd.read_csv(filename,delimiter=';',skiprows=1) #read csv with phycocyanin absobances\n",
    "phyco=np.array(phyco)[0][1:-1] #to array"
   ]
  },
  {
   "cell_type": "code",
   "execution_count": 3,
   "metadata": {
    "collapsed": false,
    "scrolled": true
   },
   "outputs": [],
   "source": [
    "filename='/home/darwin/Dokumente/UNI/Master/Master_Thesis/Triterpenoids/Phycocyanin/spectra_2008c.csv'\n",
    "\n",
    "od = pd.read_csv(filename,delimiter=',',skiprows=2,header=None) #read spectrum\n",
    "od=np.array(od) #to array\n",
    "\n",
    "for i in range(len(od)):\n",
    "    od[i][1:]=od[i][1:]*2 #double all absorbances (2:1 dilution)"
   ]
  },
  {
   "cell_type": "code",
   "execution_count": 4,
   "metadata": {
    "collapsed": false,
    "scrolled": true
   },
   "outputs": [],
   "source": [
    "od750=od[od[:,0]==750] #only OD750\n",
    "\n",
    "od750=np.array(od750)[0,1:] #to array"
   ]
  },
  {
   "cell_type": "code",
   "execution_count": 5,
   "metadata": {
    "collapsed": false
   },
   "outputs": [],
   "source": [
    "norm_phyco=phyco/od750 #normalize to OD750"
   ]
  },
  {
   "cell_type": "code",
   "execution_count": 6,
   "metadata": {
    "collapsed": false,
    "scrolled": true
   },
   "outputs": [
    {
     "ename": "NameError",
     "evalue": "name 'phycocyanin' is not defined",
     "output_type": "error",
     "traceback": [
      "\u001b[0;31m---------------------------------------------------------------------------\u001b[0m",
      "\u001b[0;31mNameError\u001b[0m                                 Traceback (most recent call last)",
      "\u001b[0;32m<ipython-input-6-2241a87e4a13>\u001b[0m in \u001b[0;36m<module>\u001b[0;34m()\u001b[0m\n\u001b[1;32m      7\u001b[0m \u001b[0;34m\u001b[0m\u001b[0m\n\u001b[1;32m      8\u001b[0m \u001b[0;31m#means of biological triplicates\u001b[0m\u001b[0;34m\u001b[0m\u001b[0;34m\u001b[0m\u001b[0m\n\u001b[0;32m----> 9\u001b[0;31m \u001b[0;32mwhile\u001b[0m \u001b[0mi\u001b[0m \u001b[0;34m<\u001b[0m \u001b[0mlen\u001b[0m\u001b[0;34m(\u001b[0m\u001b[0mphycocyanin\u001b[0m\u001b[0;34m)\u001b[0m\u001b[0;34m:\u001b[0m\u001b[0;34m\u001b[0m\u001b[0m\n\u001b[0m\u001b[1;32m     10\u001b[0m     \u001b[0mx_value\u001b[0m\u001b[0;34m.\u001b[0m\u001b[0mappend\u001b[0m\u001b[0;34m(\u001b[0m\u001b[0;34m[\u001b[0m\u001b[0mx\u001b[0m\u001b[0;34m+\u001b[0m\u001b[0;36m1\u001b[0m\u001b[0;34m]\u001b[0m\u001b[0;34m*\u001b[0m\u001b[0mlen\u001b[0m\u001b[0;34m(\u001b[0m\u001b[0mphycocyanin\u001b[0m\u001b[0;34m[\u001b[0m\u001b[0mi\u001b[0m\u001b[0;34m:\u001b[0m\u001b[0mi\u001b[0m\u001b[0;34m+\u001b[0m\u001b[0;36m3\u001b[0m\u001b[0;34m]\u001b[0m\u001b[0;34m)\u001b[0m\u001b[0;34m)\u001b[0m\u001b[0;34m\u001b[0m\u001b[0m\n\u001b[1;32m     11\u001b[0m     \u001b[0mmeans\u001b[0m\u001b[0;34m.\u001b[0m\u001b[0mappend\u001b[0m\u001b[0;34m(\u001b[0m\u001b[0mphycocyanin\u001b[0m\u001b[0;34m[\u001b[0m\u001b[0mi\u001b[0m\u001b[0;34m:\u001b[0m\u001b[0mi\u001b[0m\u001b[0;34m+\u001b[0m\u001b[0;36m3\u001b[0m\u001b[0;34m]\u001b[0m\u001b[0;34m.\u001b[0m\u001b[0msum\u001b[0m\u001b[0;34m(\u001b[0m\u001b[0;34m)\u001b[0m\u001b[0;34m/\u001b[0m\u001b[0mlen\u001b[0m\u001b[0;34m(\u001b[0m\u001b[0mphycocyanin\u001b[0m\u001b[0;34m[\u001b[0m\u001b[0mi\u001b[0m\u001b[0;34m:\u001b[0m\u001b[0mi\u001b[0m\u001b[0;34m+\u001b[0m\u001b[0;36m3\u001b[0m\u001b[0;34m]\u001b[0m\u001b[0;34m)\u001b[0m\u001b[0;34m)\u001b[0m\u001b[0;34m\u001b[0m\u001b[0m\n",
      "\u001b[0;31mNameError\u001b[0m: name 'phycocyanin' is not defined"
     ]
    }
   ],
   "source": [
    "x_value=[]\n",
    "means=[]\n",
    "i=0\n",
    "x=0\n",
    "\n",
    "#phycocyanin[7]=phycocyanin[8]\n",
    "\n",
    "#means of biological triplicates\n",
    "while i < len(phycocyanin):\n",
    "    x_value.append([x+1]*len(phycocyanin[i:i+3]))\n",
    "    means.append(phycocyanin[i:i+3].sum()/len(phycocyanin[i:i+3]))\n",
    "    i+=3\n",
    "    x+=1\n",
    "    \n"
   ]
  },
  {
   "cell_type": "code",
   "execution_count": null,
   "metadata": {
    "collapsed": true
   },
   "outputs": [],
   "source": [
    "#labels\n",
    "labeli=['$\\Delta shc$_EVC',\n",
    " '$\\Delta shc$_SQS1',\n",
    " 'GT-V_EVC',\n",
    " 'GT-V_SQS',\n",
    " 'GT-U_EVC',\n",
    " 'GT-U_SQS',\n",
    " '$\\Delta shc$_SQS2']"
   ]
  },
  {
   "cell_type": "code",
   "execution_count": null,
   "metadata": {
    "collapsed": false,
    "scrolled": true
   },
   "outputs": [],
   "source": [
    "from matplotlib.ticker import MaxNLocator\n",
    "\n",
    "i=0\n",
    "x=1\n",
    "\n",
    "ax = plt.subplot(111)\n",
    "\n",
    "while i < len(phycocyanin):\n",
    "    ax.scatter([x]*3,phycocyanin[i:i+3],marker='+',c='k') #plot data points\n",
    "    i+=3\n",
    "    x+=1\n",
    "\n",
    "#barplot\n",
    "ax.bar(np.array(range(1,len(means)+1))-0.3,means,color=['k','k','lightgray','lightgray','k','k','lightgray'],width=0.6, alpha=0.5)\n",
    "\n",
    "#format plot\n",
    "plt.yticks(fontsize=14)\n",
    "plt.xticks(np.array(range(1,len(means)+1))-0.35,labeli,rotation=50,fontsize=14) #xticks\n",
    "plt.tight_layout()\n",
    "plt.ylabel('PC Absorption [A.U.]',fontsize=14)\n",
    "plt.xlabel('Strain',fontsize=14)\n",
    "\n",
    "\n",
    "ax.spines['right'].set_visible(False)\n",
    "ax.spines['top'].set_visible(False)\n",
    "\n",
    "ax.yaxis.set_ticks_position('left')\n",
    "ax.xaxis.set_ticks_position('none')\n",
    "\n",
    "#ax.yaxis.set_major_locator(MaxNLocator(3))\n",
    "\n",
    "plt.ylim(0)\n",
    "\n",
    "plt.tight_layout()\n",
    "\n",
    "#save plot\n",
    "#plt.savefig('phycocyanin.png',bbox_inches='tight',dpi=1000)\n"
   ]
  }
 ],
 "metadata": {
  "kernelspec": {
   "display_name": "Python 2",
   "language": "python",
   "name": "python2"
  },
  "language_info": {
   "codemirror_mode": {
    "name": "ipython",
    "version": 2
   },
   "file_extension": ".py",
   "mimetype": "text/x-python",
   "name": "python",
   "nbconvert_exporter": "python",
   "pygments_lexer": "ipython2",
   "version": "2.7.6"
  }
 },
 "nbformat": 4,
 "nbformat_minor": 2
}
