{
 "cells": [
  {
   "cell_type": "code",
   "execution_count": 4,
   "metadata": {
    "collapsed": false
   },
   "outputs": [
    {
     "name": "stdout",
     "output_type": "stream",
     "text": [
      "Populating the interactive namespace from numpy and matplotlib\n"
     ]
    }
   ],
   "source": [
    "#import packages\n",
    "import matplotlib.pyplot as plt\n",
    "import numpy as np\n",
    "import pandas as pd\n",
    "import csv\n",
    "import scipy.stats as stats\n",
    "\n",
    "%pylab inline\n"
   ]
  },
  {
   "cell_type": "code",
   "execution_count": 6,
   "metadata": {
    "collapsed": false,
    "scrolled": true
   },
   "outputs": [],
   "source": [
    "filename='Phycocyanin_2008.csv'\n",
    "phycocyanin=pd.read_csv(filename,delimiter=';',skiprows=1) #read csv with phycocyanin absobances\n",
    "phycocyanin=np.array(phycocyanin)[0][1:-1] #to array"
   ]
  },
  {
   "cell_type": "code",
   "execution_count": 7,
   "metadata": {
    "collapsed": false,
    "scrolled": true
   },
   "outputs": [],
   "source": [
    "filename='spectra_2008c.csv'\n",
    "\n",
    "od = pd.read_csv(filename,delimiter=',',skiprows=2,header=None) #read spectrum\n",
    "od=np.array(od) #to array\n",
    "\n",
    "for i in range(len(od)):\n",
    "    od[i][1:]=od[i][1:]*2 #double all absorbances (2:1 dilution)"
   ]
  },
  {
   "cell_type": "code",
   "execution_count": 8,
   "metadata": {
    "collapsed": false,
    "scrolled": true
   },
   "outputs": [],
   "source": [
    "od750=od[od[:,0]==750] #only OD750\n",
    "\n",
    "od750=np.array(od750)[0,1:] #to array"
   ]
  },
  {
   "cell_type": "code",
   "execution_count": 9,
   "metadata": {
    "collapsed": false
   },
   "outputs": [],
   "source": [
    "norm_phyco=phycocyanin/od750 #normalize to OD750"
   ]
  },
  {
   "cell_type": "code",
   "execution_count": 10,
   "metadata": {
    "collapsed": false,
    "scrolled": true
   },
   "outputs": [],
   "source": [
    "x_value=[]\n",
    "means=[]\n",
    "i=0\n",
    "x=0\n",
    "\n",
    "#phycocyanin[7]=phycocyanin[8]\n",
    "\n",
    "#means of biological triplicates\n",
    "while i < len(phycocyanin):\n",
    "    x_value.append([x+1]*len(phycocyanin[i:i+3]))\n",
    "    means.append(phycocyanin[i:i+3].sum()/len(phycocyanin[i:i+3]))\n",
    "    i+=3\n",
    "    x+=1\n",
    "    \n"
   ]
  },
  {
   "cell_type": "code",
   "execution_count": 11,
   "metadata": {
    "collapsed": true
   },
   "outputs": [],
   "source": [
    "#labels\n",
    "labeli=['$\\Delta shc$_EVC',\n",
    " '$\\Delta shc$_SQS1',\n",
    " 'GT-V_EVC',\n",
    " 'GT-V_SQS',\n",
    " 'GT-U_EVC',\n",
    " 'GT-U_SQS',\n",
    " '$\\Delta shc$_SQS2']"
   ]
  },
  {
   "cell_type": "code",
   "execution_count": 12,
   "metadata": {
    "collapsed": false,
    "scrolled": true
   },
   "outputs": [
    {
     "data": {
      "image/png": "[encoded data removed]",
      "text/plain": [
       "<matplotlib.figure.Figure at 0x7ffa54855b10>"
      ]
     },
     "metadata": {},
     "output_type": "display_data"
    }
   ],
   "source": [
    "from matplotlib.ticker import MaxNLocator\n",
    "\n",
    "i=0\n",
    "x=1\n",
    "\n",
    "ax = plt.subplot(111)\n",
    "\n",
    "while i < len(phycocyanin):\n",
    "    ax.scatter([x]*3,phycocyanin[i:i+3],marker='+',c='k') #plot data points\n",
    "    i+=3\n",
    "    x+=1\n",
    "\n",
    "#barplot\n",
    "ax.bar(np.array(range(1,len(means)+1))-0.3,means,color=['k','k','lightgray','lightgray','k','k','lightgray'],width=0.6, alpha=0.5)\n",
    "\n",
    "#format plot\n",
    "plt.yticks(fontsize=14)\n",
    "plt.xticks(np.array(range(1,len(means)+1))-0.35,labeli,rotation=50,fontsize=14) #xticks\n",
    "plt.tight_layout()\n",
    "plt.ylabel('PC Absorption [A.U.]',fontsize=14)\n",
    "plt.xlabel('Strain',fontsize=14)\n",
    "\n",
    "\n",
    "ax.spines['right'].set_visible(False)\n",
    "ax.spines['top'].set_visible(False)\n",
    "\n",
    "ax.yaxis.set_ticks_position('left')\n",
    "ax.xaxis.set_ticks_position('none')\n",
    "\n",
    "#ax.yaxis.set_major_locator(MaxNLocator(3))\n",
    "\n",
    "plt.ylim(0)\n",
    "\n",
    "plt.tight_layout()\n",
    "\n",
    "#save plot\n",
    "#plt.savefig('phycocyanin.png',bbox_inches='tight',dpi=1000)\n"
   ]
  },
  {
   "cell_type": "code",
   "execution_count": null,
   "metadata": {
    "collapsed": true
   },
   "outputs": [],
   "source": []
  }
 ],
 "metadata": {
  "kernelspec": {
   "display_name": "Python 2",
   "language": "python",
   "name": "python2"
  },
  "language_info": {
   "codemirror_mode": {
    "name": "ipython",
    "version": 2
   },
   "file_extension": ".py",
   "mimetype": "text/x-python",
   "name": "python",
   "nbconvert_exporter": "python",
   "pygments_lexer": "ipython2",
   "version": "2.7.6"
  }
 },
 "nbformat": 4,
 "nbformat_minor": 2
}
