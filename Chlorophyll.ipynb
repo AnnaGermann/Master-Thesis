{
 "cells": [
  {
   "cell_type": "code",
   "execution_count": 1,
   "metadata": {
    "collapsed": false
   },
   "outputs": [
    {
     "name": "stdout",
     "output_type": "stream",
     "text": [
      "Populating the interactive namespace from numpy and matplotlib\n"
     ]
    }
   ],
   "source": [
    "#import packages\n",
    "import matplotlib.pyplot as plt\n",
    "import numpy as np\n",
    "import pandas as pd\n",
    "import csv\n",
    "import glob\n",
    "from matplotlib.ticker import MaxNLocator\n",
    "import scipy.stats as stats\n",
    "\n",
    "%pylab inline\n"
   ]
  },
  {
   "cell_type": "code",
   "execution_count": 2,
   "metadata": {
    "collapsed": false,
    "scrolled": true
   },
   "outputs": [],
   "source": [
    "filename='Chlorophyll_1508.csv' \n",
    "chloro=pd.read_csv(filename,delimiter=';',skiprows=1) #Read csv with chlorophyll absorbance\n",
    "chloro=np.array(chloro)[0][1:-1] #to array"
   ]
  },
  {
   "cell_type": "code",
   "execution_count": 3,
   "metadata": {
    "collapsed": false,
    "scrolled": true
   },
   "outputs": [],
   "source": [
    "filenames=sorted(glob.glob('*08.csv')) #get all filenames\n",
    "\n",
    "od = [pd.read_csv(file,delimiter=';',skiprows=2,header=None) for file in filenames] #read spectra\n",
    "od=np.array(od) #to array\n",
    "\n",
    "for i in range(1,len(od)):\n",
    "    od[i].iloc[:,1:]=od[i].iloc[:,1:]*2 #double all absorbances (2:1 dilution)\n",
    "\n",
    "od750=od[10][od[10][0]==750] #get only OD750\n",
    "\n",
    "od750=np.array(od750)[0,1:] #to array"
   ]
  },
  {
   "cell_type": "code",
   "execution_count": 4,
   "metadata": {
    "collapsed": false
   },
   "outputs": [],
   "source": [
    "norm_chloro=chloro/od750 #normalize to OD750"
   ]
  },
  {
   "cell_type": "code",
   "execution_count": 5,
   "metadata": {
    "collapsed": false
   },
   "outputs": [],
   "source": [
    "chlorophyll=norm_chloro*13.9 #calculate concentration in ug/ml"
   ]
  },
  {
   "cell_type": "code",
   "execution_count": 6,
   "metadata": {
    "collapsed": false
   },
   "outputs": [],
   "source": [
    "x_value=[]\n",
    "means=[]\n",
    "err=[]\n",
    "i=0\n",
    "x=0\n",
    "\n",
    "#means and std of biological triplicates\n",
    "\n",
    "while i < len(chlorophyll):\n",
    "    x_value.append([x+1]*len(chlorophyll[i:i+3])) \n",
    "    means.append(chlorophyll[i:i+3].mean()) \n",
    "    err.append(chlorophyll[i:i+3].std())\n",
    "    i+=3\n",
    "    x+=1"
   ]
  },
  {
   "cell_type": "code",
   "execution_count": 7,
   "metadata": {
    "collapsed": false,
    "scrolled": true
   },
   "outputs": [],
   "source": [
    "#labels\n",
    "labeli=['$\\Delta shc$_EVC',\n",
    " '$\\Delta shc$_SQS1',\n",
    " 'GT-V_EVC',\n",
    " 'GT-V_SQS',\n",
    " 'GT-U_EVC',\n",
    " 'GT-U_SQS',\n",
    " '$\\Delta shc$_SQS2']"
   ]
  },
  {
   "cell_type": "code",
   "execution_count": 8,
   "metadata": {
    "collapsed": false,
    "scrolled": true
   },
   "outputs": [
    {
     "data": {
      "image/png": "[encoded data removed]",
      "text/plain": [
       "<matplotlib.figure.Figure at 0x7fd0ce6e2b50>"
      ]
     },
     "metadata": {},
     "output_type": "display_data"
    }
   ],
   "source": [
    "i=0\n",
    "x=1\n",
    "\n",
    "ax = plt.subplot(111)\n",
    "\n",
    "while i < len(chlorophyll):\n",
    "    ax.scatter([x]*3,chlorophyll[i:i+3],marker='+',c='k') #scatter data points\n",
    "    i+=3\n",
    "    x+=1\n",
    "\n",
    "#barplot\n",
    "ax.bar(np.array(range(1,len(means)+1))-0.3,means,color=['k','k','lightgray','lightgray','k','k','lightgray'],width=0.6, alpha=0.5)\n",
    "\n",
    "#format plot\n",
    "plt.yticks(fontsize=14)\n",
    "plt.xticks(np.array(range(1,len(means)+1))-0.35,labeli,rotation=50,fontsize=14) #xticks\n",
    "plt.tight_layout()\n",
    "plt.ylabel('Chl conc. [$\\mu g \\cdot mL^{-1} OD^{-1}$]',fontsize=14)\n",
    "plt.xlabel('Strain',fontsize=14)\n",
    "\n",
    "\n",
    "ax.spines['right'].set_visible(False)\n",
    "ax.spines['top'].set_visible(False)\n",
    "\n",
    "ax.yaxis.set_ticks_position('left')\n",
    "ax.xaxis.set_ticks_position('none')\n",
    "\n",
    "ax.yaxis.set_major_locator(MaxNLocator(3))\n",
    "\n",
    "plt.ylim(0,12)\n",
    "\n",
    "plt.tight_layout()\n",
    "\n",
    "#save plot\n",
    "#plt.savefig('chlorophyll.png',bbox_inches='tight',dpi=1000)\n"
   ]
  }
 ],
 "metadata": {
  "kernelspec": {
   "display_name": "Python 2",
   "language": "python",
   "name": "python2"
  },
  "language_info": {
   "codemirror_mode": {
    "name": "ipython",
    "version": 2
   },
   "file_extension": ".py",
   "mimetype": "text/x-python",
   "name": "python",
   "nbconvert_exporter": "python",
   "pygments_lexer": "ipython2",
   "version": "2.7.6"
  }
 },
 "nbformat": 4,
 "nbformat_minor": 2
}
