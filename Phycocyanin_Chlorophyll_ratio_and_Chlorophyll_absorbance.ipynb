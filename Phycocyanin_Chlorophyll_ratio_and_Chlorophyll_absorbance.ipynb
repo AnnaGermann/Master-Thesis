{
 "cells": [
  {
   "cell_type": "code",
   "execution_count": 1,
   "metadata": {
    "collapsed": false
   },
   "outputs": [],
   "source": [
    "#import packages\n",
    "import matplotlib\n",
    "import pandas as pd\n",
    "import numpy as np\n",
    "import matplotlib.pyplot as plt\n",
    "from mpl_toolkits import mplot3d\n",
    "import glob\n",
    "import scipy.stats as stats\n",
    "from pylab import *\n",
    "import matplotlib\n",
    "%matplotlib inline\n",
    "\n"
   ]
  },
  {
   "cell_type": "code",
   "execution_count": 2,
   "metadata": {
    "collapsed": false
   },
   "outputs": [],
   "source": [
    "filenames=sorted(glob.glob('*08.csv'))  #filenames of all spectra\n",
    "filenames\n",
    "\n",
    "data = [pd.read_csv(filename,delimiter=';',skiprows=2,header=None) for filename in filenames] #read all spectra\n"
   ]
  },
  {
   "cell_type": "code",
   "execution_count": 3,
   "metadata": {
    "collapsed": false
   },
   "outputs": [],
   "source": [
    "for i in range(1,len(data)):\n",
    "    data[i].iloc[:,1:]=data[i].iloc[:,1:]*2 #double all absorbances (dilution 2:1)"
   ]
  },
  {
   "cell_type": "code",
   "execution_count": 4,
   "metadata": {
    "collapsed": false,
    "scrolled": false
   },
   "outputs": [],
   "source": [
    "da=[np.array(d) for d in data] #to array"
   ]
  },
  {
   "cell_type": "code",
   "execution_count": 5,
   "metadata": {
    "collapsed": false,
    "scrolled": true
   },
   "outputs": [],
   "source": [
    "#set column namen\n",
    "for i in data:\n",
    "    i.columns=['wavelength','dshc_evc1','dshc_evc2','dshc_evc3','dshc_sqs1','dshc_sqs2', 'dshc_sqs3','v_evc1','v_evc2','v_evc3','v_sqs1','v_sqs2','v_sqs3','u_evc1','u_evc2','u_evc3','u_sqs1','u_sqs2','u_sqs3','dshc_sqs4','dshc_sqs5','dshc_sqs6'] "
   ]
  },
  {
   "cell_type": "code",
   "execution_count": 6,
   "metadata": {
    "collapsed": false
   },
   "outputs": [],
   "source": [
    "#normalize to OD750\n",
    "new=np.copy(da)\n",
    "for x in new:\n",
    "    for i in range(1,len(new[0][0])):\n",
    "        x[:,i]=x[:,i]-(x[:,i][x[:,0]==750])"
   ]
  },
  {
   "cell_type": "code",
   "execution_count": 7,
   "metadata": {
    "collapsed": false,
    "scrolled": true
   },
   "outputs": [],
   "source": [
    "#normalize to max chlorophyll\n",
    "new_m=np.copy(new)\n",
    "for x in new_m:\n",
    "    for i in range(1,len(new_m[0][0])):\n",
    "        x[:,i]=x[:,i]/(x[:,i][x[:,0]==443])"
   ]
  },
  {
   "cell_type": "code",
   "execution_count": 8,
   "metadata": {
    "collapsed": true
   },
   "outputs": [],
   "source": [
    "#normalize to integral\n",
    "new_i=np.copy(new)\n",
    "for x in new_i:\n",
    "    for i in range(1,len(new_i[0][0])):\n",
    "        x[:,i]=x[:,i]/(x[:,i].sum())"
   ]
  },
  {
   "cell_type": "code",
   "execution_count": 9,
   "metadata": {
    "collapsed": false
   },
   "outputs": [],
   "source": [
    "#styles\n",
    "ls=('- '*24)\n",
    "ls=ls.split()\n",
    "c=('y '*3)+('r '*3)+('b '*3)+('r '*3)+('k '*3)+('r '*3)+('r '*3)\n",
    "c=c.split()\n",
    "labels=data[0].columns[1:]\n"
   ]
  },
  {
   "cell_type": "markdown",
   "metadata": {},
   "source": [
    "# Phycocyanin/Chlorophyll ratio + Carotenoid absorption"
   ]
  },
  {
   "cell_type": "code",
   "execution_count": 10,
   "metadata": {
    "collapsed": false
   },
   "outputs": [],
   "source": [
    "# calculate phycocyanin/chlorophyll ratio\n",
    "ratio=np.zeros((len(new),len(new_m[0][0])))\n",
    "\n",
    "for x in range(len(new_m)):\n",
    "    for i in range(len(new_m[0][0])):\n",
    "        ratio[x][i]=(1.0162*(new_m[x][:,i][new_m[x][:,0]==630])-0.2612*(new_m[x][:,i][new_m[x][:,0]==680]))/(1.0162*(new_m[x][:,i][new_m[x][:,0]==680])-0.063*(new_m[x][:,i][new_m[x][:,0]==630]))\n",
    "\n",
    "ratio[:,19]=ratio[:,20]\n",
    "ratio[:,21]=ratio[:,20]"
   ]
  },
  {
   "cell_type": "code",
   "execution_count": 11,
   "metadata": {
    "collapsed": true
   },
   "outputs": [],
   "source": [
    "#carotenoid absorption of all strains\n",
    "carot=np.zeros((len(new_i),len(new_i[0][0])))\n",
    "\n",
    "for x in range(len(new_i)):\n",
    "    for i in range(len(new_i[0][0])):\n",
    "        carot[x][i]=new_i[x][:,i][new_i[x][:,0]==500]\n",
    "                                      \n",
    "ratio[:,19]=ratio[:,20]\n",
    "ratio[:,21]=ratio[:,20]"
   ]
  },
  {
   "cell_type": "code",
   "execution_count": 12,
   "metadata": {
    "collapsed": true
   },
   "outputs": [],
   "source": [
    "#means and std of carotenoids\n",
    "carot_means=np.zeros((len(carot),(len(carot[0])/3)))\n",
    "carot_err=np.zeros((len(carot),(len(carot[0])/3)))\n",
    "\n",
    "for x in range(len(carot)):\n",
    "    z=0\n",
    "    y=0\n",
    "    while z < len(ratio[0][1:]):\n",
    "        carot_means[x][y]=carot[x][1:][z:z+3].mean()\n",
    "        carot_err[x][y]=carot[x][1:][z:z+3].std()\n",
    "        z+=3\n",
    "        y+=1\n",
    "        "
   ]
  },
  {
   "cell_type": "code",
   "execution_count": 13,
   "metadata": {
    "collapsed": true
   },
   "outputs": [],
   "source": [
    "#means and std of phycocyanin/chlorophyll ratios\n",
    "ratio_means=np.zeros((len(ratio),(len(ratio[0])/3)))\n",
    "ratio_err=np.zeros((len(ratio),(len(ratio[0])/3)))\n",
    "\n",
    "for x in range(len(ratio)):\n",
    "    z=0\n",
    "    y=0\n",
    "    while z < len(ratio[0][1:]):\n",
    "        ratio_means[x][y]=ratio[x][1:][z:z+3].mean()\n",
    "        ratio_err[x][y]=ratio[x][1:][z:z+3].std()\n",
    "        z+=3\n",
    "        y+=1\n",
    "        "
   ]
  },
  {
   "cell_type": "code",
   "execution_count": 14,
   "metadata": {
    "collapsed": true
   },
   "outputs": [],
   "source": [
    "#styles\n",
    "sym=['v','D','x',\"o\",\"^\",'+',\"*\"]\n",
    "size=[50,30,60,40,50,70,80]\n",
    "labeli=['$\\Delta shc$_EVC',\n",
    " '$\\Delta shc$_SQS1',\n",
    " 'GT-V_EVC',\n",
    " 'GT-V_SQS',\n",
    " 'GT-U_EVC',\n",
    " 'GT-U_SQS',\n",
    " '$\\Delta shc$_SQS2']\n",
    "c=['r','r','b','b','k','k','g']\n",
    "ls=['--','-','--','-','--','-','-']"
   ]
  },
  {
   "cell_type": "code",
   "execution_count": 15,
   "metadata": {
    "collapsed": false
   },
   "outputs": [
    {
     "data": {
      "text/plain": [
       "<matplotlib.legend.Legend at 0x7f629d1e3cd0>"
      ]
     },
     "execution_count": 15,
     "metadata": {},
     "output_type": "execute_result"
    },
    {
     "data": {
      "image/png": "[encoded data removed]",
      "text/plain": [
       "<matplotlib.figure.Figure at 0x7f62e048ad10>"
      ]
     },
     "metadata": {},
     "output_type": "display_data"
    }
   ],
   "source": [
    "#plot carotenoid absorbance over time for all strains\n",
    "t=[0,24.,48.5, 71.25, 96.,121.,144,164.5,192.5,217.5,238.5,263.5,283.5,310.5]\n",
    "from matplotlib.ticker import MaxNLocator\n",
    "ax = plt.subplot(111)\n",
    "\n",
    "for x in range(len(carot_means[0][:-1])):\n",
    "    ax.scatter(t,carot_means[:,x],s=size[x],color=c[x],label=labeli[x],marker=sym[x])\n",
    "    #plt.errorbar(t,carot_means[:,x],color=coloru[x],yerr=carot_err.T[x],fmt='.')\n",
    "\n",
    "plt.xlim(-20)\n",
    "plt.ylim(0.0022,0.00365)\n",
    "\n",
    "ax.spines['right'].set_visible(False)\n",
    "ax.spines['top'].set_visible(False)\n",
    "\n",
    "ax.yaxis.set_ticks_position('left')\n",
    "ax.xaxis.set_ticks_position('bottom')\n",
    "    \n",
    "plt.xlabel('time [h]',fontsize=16)\n",
    "plt.ylabel('Absorption Crt [A.U.]',fontsize=16)\n",
    "plt.tight_layout()\n",
    "\n",
    "ax.yaxis.set_major_locator(MaxNLocator(5))\n",
    "\n",
    "yticks(fontsize=14)\n",
    "xticks(fontsize=14)\n",
    "\n",
    "legend(bbox_to_anchor=(1.35,1.048),fontsize=14,frameon=False)\n",
    "#savefig('carot.png',bbox_inches='tight',dpi=1000)\n"
   ]
  },
  {
   "cell_type": "code",
   "execution_count": 16,
   "metadata": {
    "collapsed": false,
    "scrolled": true
   },
   "outputs": [
    {
     "name": "stdout",
     "output_type": "stream",
     "text": [
      "[ 22.85735665  21.43647284  20.48990894  18.74109003  16.08808768\n",
      "  13.47890989  11.60640239  13.15407797   9.53279636   9.58581597\n",
      "   9.7041725    8.37673818   8.31558255   8.03664681]\n",
      "[ 15.25791813  11.90509909  12.13978476  10.71740197   8.50480855\n",
      "   7.21795711   7.03955573   7.38332296   7.77500293   7.03990494\n",
      "   6.73119325   6.36948463   6.40440124   7.98457688]\n",
      "[  2.64783552   4.90883538   6.43721392   7.90581987   8.84687409\n",
      "   9.85558965  10.82849421  11.52733491  11.27292899  10.38959112\n",
      "  10.2451325   10.648819    10.36383837   9.70651333]\n"
     ]
    }
   ],
   "source": [
    "#differences in percent between evc and mutant\n",
    "print 100-(carot_means.T[1]/carot_means.T[0]*100)\n",
    "print 100-(carot_means.T[3]/carot_means.T[2]*100)\n",
    "print 100-(carot_means.T[5]/carot_means.T[4]*100)"
   ]
  },
  {
   "cell_type": "code",
   "execution_count": 17,
   "metadata": {
    "collapsed": false,
    "scrolled": true
   },
   "outputs": [
    {
     "data": {
      "text/plain": [
       "<matplotlib.legend.Legend at 0x7f629d1e3590>"
      ]
     },
     "execution_count": 17,
     "metadata": {},
     "output_type": "execute_result"
    },
    {
     "data": {
      "image/png": "[encoded data removed]",
      "text/plain": [
       "<matplotlib.figure.Figure at 0x7f629d416fd0>"
      ]
     },
     "metadata": {},
     "output_type": "display_data"
    }
   ],
   "source": [
    "#plot phycocyanin/chlorphyll ratio over time for all strains\n",
    "t=[0,24.,48.5, 71.25, 96.,121.,144,164.5,192.5,217.5,238.5,263.5,283.5,310.5]\n",
    "\n",
    "ax = plt.subplot(111)\n",
    "\n",
    "for x in range(len(ratio_means[0][:-1])):\n",
    "    ax.scatter(t,ratio_means[:,x],s=size[x],color=c[x],label=labeli[x],marker=sym[x])\n",
    "    #plt.errorbar(t,ratio_means[:,x],color=coloru[x],yerr=ratio_err.T[x],fmt='.')\n",
    "\n",
    "plt.xlim(-20)\n",
    "\n",
    "ax.spines['right'].set_visible(False)\n",
    "ax.spines['top'].set_visible(False)\n",
    "\n",
    "ax.yaxis.set_ticks_position('left')\n",
    "ax.xaxis.set_ticks_position('bottom')\n",
    "    \n",
    "plt.xlabel('time [h]',fontsize=16)\n",
    "plt.ylabel('PC/Chl ratio [A.U.]',fontsize=16)\n",
    "plt.tight_layout()\n",
    "\n",
    "yticks(fontsize=14)\n",
    "xticks(fontsize=14)\n",
    "\n",
    "legend(bbox_to_anchor=(1.35,1.048),fontsize=14,frameon=False)\n",
    "#savefig('phyco_chloro.png',bbox_inches='tight',dpi=1000)\n"
   ]
  },
  {
   "cell_type": "code",
   "execution_count": 18,
   "metadata": {
    "collapsed": false,
    "scrolled": false
   },
   "outputs": [
    {
     "name": "stdout",
     "output_type": "stream",
     "text": [
      "[ 12.05749295   9.86730648   9.72464804   8.83048839   8.94118473\n",
      "   7.96813428   7.11460586   4.84569097   4.87582195   4.02765215\n",
      "   3.59019018   3.5685603    3.33178086   2.20565573]\n",
      "[ 2.18028248  3.42708348  3.11363929  2.61674897  1.81975089  2.13999538\n",
      "  1.62620504  1.826501    2.02689235  1.32975499  0.11662165  0.91647522\n",
      "  0.77510288  0.11837953]\n",
      "[ 3.58636618  4.56713804  3.91307133  3.9298562   2.77041248  3.15781061\n",
      "  2.91240251  3.02252205  3.4779691   4.18094521  2.94614661  2.10069939\n",
      "  1.95291339  0.9466098 ]\n"
     ]
    }
   ],
   "source": [
    "#phycocyanin/chlorphyll ratio difference in percent (between evc and mutant)\n",
    "print 100-(ratio_means.T[0]/ratio_means.T[1]*100)\n",
    "print 100-(ratio_means.T[3]/ratio_means.T[2]*100)\n",
    "print 100-(ratio_means.T[5]/ratio_means.T[4]*100)"
   ]
  },
  {
   "cell_type": "markdown",
   "metadata": {},
   "source": [
    "# Statistics"
   ]
  },
  {
   "cell_type": "code",
   "execution_count": 19,
   "metadata": {
    "collapsed": false,
    "scrolled": true
   },
   "outputs": [
    {
     "name": "stdout",
     "output_type": "stream",
     "text": [
      "0\n",
      "NormaltestResult(statistic=25.911790838826303, pvalue=2.3622513792485514e-06)\n",
      "1\n",
      "NormaltestResult(statistic=22.36729339664916, pvalue=1.3899652775429322e-05)\n",
      "2\n",
      "NormaltestResult(statistic=16.449566146279604, pvalue=0.00026793046417856195)\n",
      "3\n",
      "NormaltestResult(statistic=0.30093504442341251, pvalue=0.86030567037912042)\n",
      "4\n",
      "NormaltestResult(statistic=0.28091825114748381, pvalue=0.8689591824149161)\n",
      "5\n",
      "NormaltestResult(statistic=3.2138337418195562, pvalue=0.20050484440433322)\n",
      "6\n",
      "NormaltestResult(statistic=1.2067953964706302, pvalue=0.54695010401951993)\n",
      "7\n",
      "NormaltestResult(statistic=6.9864947895748317, pvalue=0.030401984448556886)\n",
      "8\n",
      "NormaltestResult(statistic=17.424221593333851, pvalue=0.00016458049162090802)\n",
      "9\n",
      "NormaltestResult(statistic=5.4904024927013833, pvalue=0.064235372509343705)\n",
      "10\n",
      "NormaltestResult(statistic=0.7651234842265171, pvalue=0.68211177465384443)\n",
      "11\n",
      "NormaltestResult(statistic=6.2745752847376206, pvalue=0.043400355686459904)\n",
      "12\n",
      "NormaltestResult(statistic=2.15964281506746, pvalue=0.33965618026346611)\n",
      "13\n",
      "NormaltestResult(statistic=30.149441873791893, pvalue=2.8387809414783604e-07)\n",
      "14\n",
      "NormaltestResult(statistic=2.5705317201042766, pvalue=0.27657704306956699)\n",
      "15\n",
      "NormaltestResult(statistic=17.092262177829205, pvalue=0.00019429535874649129)\n",
      "16\n",
      "NormaltestResult(statistic=4.46869924612158, pvalue=0.10706173770026352)\n",
      "17\n",
      "NormaltestResult(statistic=5.8147756640828554, pvalue=0.054618215642639953)\n",
      "18\n",
      "NormaltestResult(statistic=6.3668509815459204, pvalue=0.041443447547688611)\n",
      "19\n",
      "NormaltestResult(statistic=2.9752548816446751, pvalue=0.22590800031919522)\n",
      "20\n",
      "NormaltestResult(statistic=2.9752548816446751, pvalue=0.22590800031919522)\n",
      "21\n",
      "NormaltestResult(statistic=2.9752548816446751, pvalue=0.22590800031919522)\n"
     ]
    },
    {
     "name": "stderr",
     "output_type": "stream",
     "text": [
      "/usr/local/lib/python2.7/dist-packages/scipy/stats/stats.py:1327: UserWarning: kurtosistest only valid for n>=20 ... continuing anyway, n=14\n",
      "  \"anyway, n=%i\" % int(n))\n"
     ]
    }
   ],
   "source": [
    "#normality test for all strains (phycocyanin/chlorophyll ratio)\n",
    "for x in range(len(ratio.T)):\n",
    "    print x\n",
    "    print stats.normaltest(ratio.T[x])"
   ]
  },
  {
   "cell_type": "code",
   "execution_count": 20,
   "metadata": {
    "collapsed": false,
    "scrolled": true
   },
   "outputs": [
    {
     "name": "stdout",
     "output_type": "stream",
     "text": [
      "0 1 2\n",
      "FriedmanchisquareResult(statistic=21.142857142857139, pvalue=2.5638163074754662e-05)\n",
      "3 4 5\n",
      "FriedmanchisquareResult(statistic=13.0, pvalue=0.0015034391929775717)\n",
      "6 7 8\n",
      "FriedmanchisquareResult(statistic=19.0, pvalue=7.4851829887700571e-05)\n",
      "9 10 11\n",
      "FriedmanchisquareResult(statistic=22.428571428571416, pvalue=1.3480239112981287e-05)\n",
      "12 13 14\n",
      "FriedmanchisquareResult(statistic=13.0, pvalue=0.0015034391929775717)\n",
      "15 16 17\n",
      "FriedmanchisquareResult(statistic=21.571428571428555, pvalue=2.0693016418252869e-05)\n",
      "18 19 20\n",
      "FriedmanchisquareResult(statistic=28.0, pvalue=8.3152871910356798e-07)\n"
     ]
    }
   ],
   "source": [
    "# Friedman's test within triplicates (phycocyanin/chlorophyll ratio)\n",
    "x=0\n",
    "while x < len(ratio.T)-3:\n",
    "    print x,x+1,x+2\n",
    "    print stats.friedmanchisquare(ratio.T[x],ratio.T[x+1],ratio.T[x+2])\n",
    "    x+=3"
   ]
  },
  {
   "cell_type": "code",
   "execution_count": 21,
   "metadata": {
    "collapsed": false,
    "scrolled": true
   },
   "outputs": [
    {
     "name": "stdout",
     "output_type": "stream",
     "text": [
      "0\n",
      "NormaltestResult(statistic=2.8319705010831098, pvalue=0.242686388724031)\n",
      "1\n",
      "NormaltestResult(statistic=5.2239234601371276, pvalue=0.073390430239612114)\n",
      "2\n",
      "NormaltestResult(statistic=2.5007609013703176, pvalue=0.28639581664603642)\n",
      "3\n",
      "NormaltestResult(statistic=1.7136424976970068, pvalue=0.42450934945321506)\n",
      "4\n",
      "NormaltestResult(statistic=1.8970937625653246, pvalue=0.38730341258457135)\n",
      "5\n",
      "NormaltestResult(statistic=1.3393224671305515, pvalue=0.51188195684290139)\n",
      "6\n",
      "NormaltestResult(statistic=1.0907497244769795, pvalue=0.57962446328605943)\n",
      "7\n",
      "NormaltestResult(statistic=2.8976317032592709, pvalue=0.23484821864120595)\n",
      "8\n",
      "NormaltestResult(statistic=1.5521703571984764, pvalue=0.46020410628242736)\n",
      "9\n",
      "NormaltestResult(statistic=1.4311156974880408, pvalue=0.48891929269415302)\n",
      "10\n",
      "NormaltestResult(statistic=1.7878043509639654, pvalue=0.40905642440176926)\n",
      "11\n",
      "NormaltestResult(statistic=9.6613050128843341, pvalue=0.0079813117091984704)\n",
      "12\n",
      "NormaltestResult(statistic=7.6162404704086368, pvalue=0.022189851479128324)\n",
      "13\n",
      "NormaltestResult(statistic=4.3585043013935216, pvalue=0.1131261002891113)\n",
      "14\n",
      "NormaltestResult(statistic=4.6270428622192004, pvalue=0.098912324622083769)\n",
      "15\n",
      "NormaltestResult(statistic=3.1712247500930086, pvalue=0.20482232662265243)\n",
      "16\n",
      "NormaltestResult(statistic=1.4130119181645093, pvalue=0.49336502697753459)\n",
      "17\n",
      "NormaltestResult(statistic=4.1332860104301012, pvalue=0.1266100985323621)\n",
      "18\n",
      "NormaltestResult(statistic=2.9706013217564058, pvalue=0.22643425052034194)\n",
      "19\n",
      "NormaltestResult(statistic=3.8710393638713541, pvalue=0.14434923363886473)\n",
      "20\n",
      "NormaltestResult(statistic=3.124376598698853, pvalue=0.20967673334053621)\n"
     ]
    }
   ],
   "source": [
    "#normality test for all strains (carotenoid absorbance)\n",
    "for x in range(len(carot.T[1:])):\n",
    "    print x\n",
    "    print stats.normaltest(carot.T[1:][x])"
   ]
  },
  {
   "cell_type": "code",
   "execution_count": 22,
   "metadata": {
    "collapsed": false,
    "scrolled": true
   },
   "outputs": [
    {
     "name": "stdout",
     "output_type": "stream",
     "text": [
      "1 2 3\n",
      "BartlettResult(statistic=0.78697354624512916, pvalue=0.67470024169525566)\n",
      "4 5 6\n",
      "BartlettResult(statistic=0.41770325177197276, pvalue=0.8115156346244401)\n",
      "7 8 9\n",
      "BartlettResult(statistic=0.04436835120205062, pvalue=0.97806008365822716)\n",
      "10 11 12\n",
      "BartlettResult(statistic=2.5991008748327427, pvalue=0.27265434067536315)\n",
      "13 14 15\n",
      "BartlettResult(statistic=1.4710728296491962, pvalue=0.47924831411254831)\n",
      "16 17 18\n",
      "BartlettResult(statistic=2.4062941529541875, pvalue=0.30024782065678068)\n",
      "19 20 21\n",
      "BartlettResult(statistic=8.3889325541675497, pvalue=0.015078788209614568)\n"
     ]
    }
   ],
   "source": [
    "#Bartlett's test on heteroscedasticity for all strains (carotenoid absorbance)\n",
    "x=1\n",
    "\n",
    "while x<len(carot.T):\n",
    "    print x,x+1,x+2\n",
    "    print stats.bartlett(carot.T[x],carot.T[x+1],carot.T[x+2])\n",
    "    x+=3"
   ]
  },
  {
   "cell_type": "code",
   "execution_count": 23,
   "metadata": {
    "collapsed": false,
    "scrolled": false
   },
   "outputs": [
    {
     "name": "stdout",
     "output_type": "stream",
     "text": [
      "0\n",
      "NormaltestResult(statistic=3.5946852884875393, pvalue=0.16573873032334094)\n",
      "1\n",
      "NormaltestResult(statistic=1.7218396966770135, pvalue=0.42277301634768594)\n",
      "2\n",
      "NormaltestResult(statistic=0.89938834665776146, pvalue=0.63782318513850123)\n",
      "3\n",
      "NormaltestResult(statistic=1.6457144046240155, pvalue=0.43917504820854225)\n",
      "4\n",
      "NormaltestResult(statistic=6.727362991832198, pvalue=0.034607616332832145)\n",
      "5\n",
      "NormaltestResult(statistic=2.6094380104223314, pvalue=0.2712487438214557)\n",
      "6\n",
      "NormaltestResult(statistic=3.3067187928309045, pvalue=0.19140581932751852)\n"
     ]
    }
   ],
   "source": [
    "#normality test for averaged triplicates (carotenoid absorbance)\n",
    "for x in range(len(carot_means.T)):\n",
    "    print x\n",
    "    print stats.normaltest(carot_means.T[x])\n",
    "    "
   ]
  },
  {
   "cell_type": "code",
   "execution_count": 24,
   "metadata": {
    "collapsed": false,
    "scrolled": false
   },
   "outputs": [
    {
     "name": "stdout",
     "output_type": "stream",
     "text": [
      "0\n",
      "NormaltestResult(statistic=10.874730379247268, pvalue=0.0043509320623628511)\n",
      "1\n",
      "NormaltestResult(statistic=0.94697023207894304, pvalue=0.62282785409655617)\n",
      "2\n",
      "NormaltestResult(statistic=4.350676278092549, pvalue=0.11356974481216588)\n",
      "3\n",
      "NormaltestResult(statistic=1.4423939451255943, pvalue=0.48616997542114393)\n",
      "4\n",
      "NormaltestResult(statistic=16.9242695339357, pvalue=0.00021132046885626938)\n",
      "5\n",
      "NormaltestResult(statistic=6.4600908157087424, pvalue=0.039555702608035107)\n",
      "6\n",
      "NormaltestResult(statistic=2.9752548816446698, pvalue=0.22590800031919578)\n"
     ]
    }
   ],
   "source": [
    "#normality test for averaged triplicates (phycocyanin/chlorophyll ratio)\n",
    "for x in range(len(ratio_means.T)):\n",
    "    print x\n",
    "    print stats.normaltest(ratio_means.T[x])"
   ]
  },
  {
   "cell_type": "code",
   "execution_count": 25,
   "metadata": {
    "collapsed": false,
    "scrolled": true
   },
   "outputs": [
    {
     "name": "stdout",
     "output_type": "stream",
     "text": [
      "0 1\n",
      "BartlettResult(statistic=2.6606780699514854, pvalue=0.10285687833397958)\n",
      "2 3\n",
      "BartlettResult(statistic=1.9951292628355757, pvalue=0.15780560155919077)\n",
      "4 5\n",
      "BartlettResult(statistic=1.3757745355938755, pvalue=0.24082221094135248)\n"
     ]
    }
   ],
   "source": [
    "#Bartlett's test on heteroscedasticity between mutant and evc (carotenoid absorbance)\n",
    "x=0\n",
    "\n",
    "while x<len(carot_means.T)-1:\n",
    "    print x,x+1\n",
    "    print stats.bartlett(carot_means.T[x],carot_means.T[x+1])\n",
    "    x+=2"
   ]
  },
  {
   "cell_type": "code",
   "execution_count": 26,
   "metadata": {
    "collapsed": false,
    "scrolled": true
   },
   "outputs": [
    {
     "name": "stdout",
     "output_type": "stream",
     "text": [
      "0 1\n",
      "BartlettResult(statistic=1.7159234984193499, pvalue=0.19021862700710002)\n",
      "2 3\n",
      "BartlettResult(statistic=0.66639148815100402, pvalue=0.41431253453759265)\n",
      "4 5\n",
      "BartlettResult(statistic=0.29211564701932535, pvalue=0.58886795292406158)\n"
     ]
    }
   ],
   "source": [
    "#Bartlett's test on heteroscedasticity between mutant and evc (phycocyanin/chlorophyll ratio)\n",
    "x=0\n",
    "\n",
    "while x<len(ratio_means.T)-1:\n",
    "    print x,x+1\n",
    "    print stats.bartlett(ratio_means.T[x],ratio_means.T[x+1])\n",
    "    x+=2"
   ]
  },
  {
   "cell_type": "code",
   "execution_count": 27,
   "metadata": {
    "collapsed": false,
    "scrolled": true
   },
   "outputs": [
    {
     "name": "stdout",
     "output_type": "stream",
     "text": [
      "0 2 4\n",
      "BartlettResult(statistic=2.8259109628714318, pvalue=0.24342278744272411)\n",
      "1 3 5\n",
      "BartlettResult(statistic=2.8453418034141311, pvalue=0.24106928390918189)\n"
     ]
    }
   ],
   "source": [
    "#Bartlett's test on heteroscedasticity within evcs and mutants, respectively (carotenoid absorbance)\n",
    "x=0\n",
    "\n",
    "while x<2:\n",
    "    print x,x+2,x+4\n",
    "    print stats.bartlett(carot_means.T[x],carot_means.T[x+2],carot_means.T[x+4])\n",
    "    x+=1"
   ]
  },
  {
   "cell_type": "code",
   "execution_count": 28,
   "metadata": {
    "collapsed": false
   },
   "outputs": [
    {
     "name": "stdout",
     "output_type": "stream",
     "text": [
      "0 2 4\n",
      "F_onewayResult(statistic=2.8184981816932022, pvalue=0.071896550892191963)\n",
      "1 3 5\n",
      "F_onewayResult(statistic=32.915795488135551, pvalue=4.2282668395385994e-09)\n"
     ]
    }
   ],
   "source": [
    "#One way ANOVA within evcs and mutants, respectively (phycocyanin/chlorophyll ratio)\n",
    "x=0\n",
    "\n",
    "while x<2:\n",
    "    print x,x+2,x+4\n",
    "    print stats.f_oneway(ratio_means.T[x],ratio_means.T[x+2],ratio_means.T[x+4])\n",
    "    x+=1"
   ]
  },
  {
   "cell_type": "code",
   "execution_count": 29,
   "metadata": {
    "collapsed": false,
    "scrolled": true
   },
   "outputs": [
    {
     "name": "stdout",
     "output_type": "stream",
     "text": [
      "0 1\n",
      "Ttest_relResult(statistic=array(9.24953536053584), pvalue=4.4135329460256754e-07)\n",
      "2 3\n",
      "Ttest_relResult(statistic=array(10.932236955760422), pvalue=6.3369336390678242e-08)\n",
      "4 5\n",
      "Ttest_relResult(statistic=array(12.637726549399316), pvalue=1.1202649437001457e-08)\n"
     ]
    }
   ],
   "source": [
    "#Two sample related t-test between mutant and evc (carotenoid absorbance)\n",
    "x=0\n",
    "\n",
    "while x<len(carot_means.T)-1:\n",
    "    print x,x+1\n",
    "    print stats.ttest_rel(carot_means.T[x],carot_means.T[x+1])\n",
    "    x+=2"
   ]
  },
  {
   "cell_type": "code",
   "execution_count": 30,
   "metadata": {
    "collapsed": false
   },
   "outputs": [
    {
     "name": "stdout",
     "output_type": "stream",
     "text": [
      "0 2 4\n",
      "F_onewayResult(statistic=30.754595214419222, pvalue=9.6105275194238724e-09)\n",
      "1 3 5\n",
      "F_onewayResult(statistic=53.781159604424516, pvalue=6.1422067066555227e-12)\n"
     ]
    }
   ],
   "source": [
    "#One way ANOVA within evcs and mutants, respectively (carotenoid absorbance)\n",
    "x=0\n",
    "\n",
    "while x<2:\n",
    "    print x,x+2,x+4\n",
    "    print stats.f_oneway(carot_means.T[x],carot_means.T[x+2],carot_means.T[x+4])\n",
    "    x+=1"
   ]
  },
  {
   "cell_type": "code",
   "execution_count": 31,
   "metadata": {
    "collapsed": false
   },
   "outputs": [
    {
     "name": "stdout",
     "output_type": "stream",
     "text": [
      "Multiple Comparison of Means - Tukey HSD,FWER=0.05\n",
      "============================================\n",
      "group1 group2 meandiff  lower  upper  reject\n",
      "--------------------------------------------\n",
      "  0      1     0.0003   0.0002 0.0003  True \n",
      "  0      2     0.0002   0.0002 0.0003  True \n",
      "  1      2      -0.0   -0.0001 0.0001 False \n",
      "--------------------------------------------\n"
     ]
    }
   ],
   "source": [
    "#Tukey's HSD post-hoc (carotenoid absorbance)\n",
    "all = list(carot_means.T[0]) + list(carot_means.T[2]) + list(carot_means.T[4])\n",
    "\n",
    "shc = ['shc']*len(carot_means.T[0])\n",
    "v = ['v']*len(carot_means.T[2])\n",
    "u = ['u']*len(carot_means.T[4])\n",
    "\n",
    "treatments = shc + v + u\n",
    "\n",
    "data = {'Data': all,\n",
    "        'Group': treatments}\n",
    "data = pd.DataFrame(data, columns=['Data', 'Group'])\n",
    "\n",
    "data.head()\n",
    "\n",
    "from statsmodels.stats.multicomp import pairwise_tukeyhsd\n",
    "\n",
    "res2 = pairwise_tukeyhsd(data['Data'],data['Group'])\n",
    "print res2"
   ]
  },
  {
   "cell_type": "code",
   "execution_count": 32,
   "metadata": {
    "collapsed": false
   },
   "outputs": [
    {
     "name": "stdout",
     "output_type": "stream",
     "text": [
      "Multiple Comparison of Means - Tukey HSD,FWER=0.05\n",
      "=============================================\n",
      "group1 group2 meandiff  lower   upper  reject\n",
      "---------------------------------------------\n",
      "  0      1    -0.0523  -0.0693 -0.0352  True \n",
      "  0      2    -0.0456  -0.0627 -0.0285  True \n",
      "  1      2     0.0067  -0.0104  0.0238 False \n",
      "---------------------------------------------\n"
     ]
    }
   ],
   "source": [
    "#Tukey's HSD post-hoc (phycocyanin/chlorophyll ratio)\n",
    "all = list(ratio_means.T[1]) + list(ratio_means.T[3]) + list(ratio_means.T[5])\n",
    "\n",
    "shc = ['shc']*len(ratio_means.T[1])\n",
    "v = ['v']*len(ratio_means.T[3])\n",
    "u = ['u']*len(ratio_means.T[5])\n",
    "\n",
    "treatments = shc + v + u\n",
    "\n",
    "data = {'Data': all,\n",
    "        'Group': treatments}\n",
    "data = pd.DataFrame(data, columns=['Data', 'Group'])\n",
    "\n",
    "data.head()\n",
    "\n",
    "from statsmodels.stats.multicomp import pairwise_tukeyhsd\n",
    "res2 = pairwise_tukeyhsd(data['Data'],data['Group'])\n",
    "print(res2)"
   ]
  },
  {
   "cell_type": "code",
   "execution_count": 33,
   "metadata": {
    "collapsed": false,
    "scrolled": false
   },
   "outputs": [
    {
     "name": "stdout",
     "output_type": "stream",
     "text": [
      "0 1\n",
      "Ttest_relResult(statistic=array(-7.787100050340372), pvalue=3.0006121071173218e-06)\n",
      "2 3\n",
      "Ttest_relResult(statistic=array(6.453093096077727), pvalue=2.1559858956722449e-05)\n",
      "4 5\n",
      "Ttest_relResult(statistic=array(12.190582158132871), pvalue=1.7294829701603973e-08)\n"
     ]
    }
   ],
   "source": [
    "#Two sample related t-test between mutant and evc (phycocyanin/chlorophyll ratio)\n",
    "x=0\n",
    "\n",
    "while x<len(ratio_means.T)-1:\n",
    "    print x,x+1\n",
    "    print stats.ttest_rel(ratio_means.T[x],ratio_means.T[x+1])\n",
    "    x+=2"
   ]
  },
  {
   "cell_type": "code",
   "execution_count": 34,
   "metadata": {
    "collapsed": false
   },
   "outputs": [
    {
     "name": "stdout",
     "output_type": "stream",
     "text": [
      "0 2 4\n",
      "KruskalResult(statistic=10.224015187470314, pvalue=0.0060239770772139234)\n",
      "1 3 5\n",
      "KruskalResult(statistic=26.541053630754618, pvalue=1.7245803449335479e-06)\n"
     ]
    }
   ],
   "source": [
    "#Kruskal Wallis test within evcs and mutants, respectively (phycocyanin/chlorophyll ratio)\n",
    "x=0\n",
    "\n",
    "while x<2:\n",
    "    print x,x+2,x+4\n",
    "    print stats.kruskal(ratio_means.T[x],ratio_means.T[x+2],ratio_means.T[x+4])\n",
    "    x+=1"
   ]
  },
  {
   "cell_type": "code",
   "execution_count": 35,
   "metadata": {
    "collapsed": false
   },
   "outputs": [
    {
     "name": "stdout",
     "output_type": "stream",
     "text": [
      "RanksumsResult(statistic=-2.4811747234817534, pvalue=0.01309501667939361)\n",
      "RanksumsResult(statistic=-2.7568608038686153, pvalue=0.0058359188787485894)\n",
      "RanksumsResult(statistic=-1.3324827218698307, pvalue=0.18270161540096153)\n"
     ]
    }
   ],
   "source": [
    "#Wilcoxon rank-sum test, post-hoc (phycocyanin/chlorophyll ratio)\n",
    "\n",
    "print stats.ranksums(ratio_means.T[0],ratio_means.T[2]) \n",
    "print stats.ranksums(ratio_means.T[0],ratio_means.T[4])\n",
    "print stats.ranksums(ratio_means.T[2],ratio_means.T[4])\n"
   ]
  },
  {
   "cell_type": "code",
   "execution_count": 36,
   "metadata": {
    "collapsed": false
   },
   "outputs": [
    {
     "name": "stdout",
     "output_type": "stream",
     "text": [
      "Ttest_indResult(statistic=array(7.32943909589967), pvalue=8.7699202602139074e-08)\n",
      "Ttest_indResult(statistic=array(7.589337931833076), pvalue=4.6829344980277747e-08)\n",
      "Ttest_indResult(statistic=array(0.852110650088808), pvalue=0.401933748927642)\n"
     ]
    }
   ],
   "source": [
    "#Two sample independent t-test, post-hoc (phycocyanin/chlorophyll ratio)\n",
    "print stats.ttest_ind(ratio_means.T[1],ratio_means.T[3]) \n",
    "print stats.ttest_ind(ratio_means.T[1],ratio_means.T[5])\n",
    "print stats.ttest_ind(ratio_means.T[3],ratio_means.T[5])\n"
   ]
  },
  {
   "cell_type": "code",
   "execution_count": 37,
   "metadata": {
    "collapsed": false,
    "scrolled": true
   },
   "outputs": [
    {
     "name": "stdout",
     "output_type": "stream",
     "text": [
      "1 2\n",
      "WilcoxonResult(statistic=0.0, pvalue=0.00098153975252166848)\n",
      "3 4\n",
      "WilcoxonResult(statistic=5.0, pvalue=0.0028648155524898344)\n",
      "5 6\n",
      "WilcoxonResult(statistic=0.0, pvalue=0.00098153975252166848)\n"
     ]
    }
   ],
   "source": [
    "#Wilcoxon signed-rank test between evc and mutant (phycocyanin/chlorophyll ratio)\n",
    "i=1\n",
    "\n",
    "while i<len(ratio_means[0]):\n",
    "    print i,i+1\n",
    "    print stats.wilcoxon(ratio_means.T[i],ratio_means.T[i+1])\n",
    "    i+=2"
   ]
  }
 ],
 "metadata": {
  "kernelspec": {
   "display_name": "Python 2",
   "language": "python",
   "name": "python2"
  },
  "language_info": {
   "codemirror_mode": {
    "name": "ipython",
    "version": 2
   },
   "file_extension": ".py",
   "mimetype": "text/x-python",
   "name": "python",
   "nbconvert_exporter": "python",
   "pygments_lexer": "ipython2",
   "version": "2.7.6"
  }
 },
 "nbformat": 4,
 "nbformat_minor": 2
}
